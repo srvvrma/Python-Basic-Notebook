{
 "cells": [
  {
   "cell_type": "markdown",
   "metadata": {},
   "source": [
    "**Ch -1 Testing Basic**\n",
    "\n",
    "Basic testing coding"
   ]
  },
  {
   "cell_type": "markdown",
   "metadata": {},
   "source": [
    "# 1.1 Example of Hello World!"
   ]
  },
  {
   "cell_type": "code",
   "execution_count": 2,
   "metadata": {},
   "outputs": [
    {
     "data": {
      "text/plain": [
       "4"
      ]
     },
     "execution_count": 2,
     "metadata": {},
     "output_type": "execute_result"
    }
   ],
   "source": [
    "2+2"
   ]
  },
  {
   "cell_type": "code",
   "execution_count": 4,
   "metadata": {},
   "outputs": [
    {
     "name": "stdout",
     "output_type": "stream",
     "text": [
      "hello word\n"
     ]
    }
   ],
   "source": [
    "print(\"hello word\");"
   ]
  },
  {
   "cell_type": "code",
   "execution_count": 6,
   "metadata": {},
   "outputs": [],
   "source": [
    "def main():\n",
    "    print(\"Hello World!\")\n"
   ]
  },
  {
   "cell_type": "code",
   "execution_count": 8,
   "metadata": {},
   "outputs": [
    {
     "name": "stdout",
     "output_type": "stream",
     "text": [
      "Hello World!\n"
     ]
    }
   ],
   "source": [
    "main()"
   ]
  },
  {
   "cell_type": "code",
   "execution_count": 15,
   "metadata": {},
   "outputs": [
    {
     "name": "stdout",
     "output_type": "stream",
     "text": [
      "Hello World!\n"
     ]
    }
   ],
   "source": [
    "if __name__ == \"__main__\":\n",
    "    main()"
   ]
  },
  {
   "cell_type": "markdown",
   "metadata": {},
   "source": [
    "# 1.2 Variables And Expression"
   ]
  },
  {
   "cell_type": "markdown",
   "metadata": {},
   "source": [
    "re-declaring the variable works"
   ]
  },
  {
   "cell_type": "code",
   "execution_count": 17,
   "metadata": {},
   "outputs": [
    {
     "name": "stdout",
     "output_type": "stream",
     "text": [
      "0\n",
      "abc\n"
     ]
    }
   ],
   "source": [
    "f = 0\n",
    "print(f)\n",
    "f = \"abc\"\n",
    "print(f)\n"
   ]
  },
  {
   "cell_type": "markdown",
   "metadata": {},
   "source": [
    "Error: variables of different types cannot be combined"
   ]
  },
  {
   "cell_type": "code",
   "execution_count": 19,
   "metadata": {},
   "outputs": [
    {
     "ename": "TypeError",
     "evalue": "can only concatenate str (not \"int\") to str",
     "output_type": "error",
     "traceback": [
      "\u001b[0;31m---------------------------------------------------------------------------\u001b[0m",
      "\u001b[0;31mTypeError\u001b[0m                                 Traceback (most recent call last)",
      "\u001b[0;32m<ipython-input-19-0a4c4c4a5076>\u001b[0m in \u001b[0;36m<module>\u001b[0;34m\u001b[0m\n\u001b[0;32m----> 1\u001b[0;31m \u001b[0mprint\u001b[0m\u001b[0;34m(\u001b[0m\u001b[0;34m\"this is a string\"\u001b[0m\u001b[0;34m+\u001b[0m\u001b[0;36m2\u001b[0m\u001b[0;34m)\u001b[0m\u001b[0;34m\u001b[0m\u001b[0;34m\u001b[0m\u001b[0m\n\u001b[0m",
      "\u001b[0;31mTypeError\u001b[0m: can only concatenate str (not \"int\") to str"
     ]
    }
   ],
   "source": [
    "print(\"this is a string\"+2)"
   ]
  },
  {
   "cell_type": "markdown",
   "metadata": {},
   "source": [
    "Global Vs. Local variable in function"
   ]
  },
  {
   "cell_type": "code",
   "execution_count": 21,
   "metadata": {},
   "outputs": [
    {
     "name": "stdout",
     "output_type": "stream",
     "text": [
      "def\n",
      "0\n"
     ]
    },
    {
     "ename": "NameError",
     "evalue": "name 'f' is not defined",
     "output_type": "error",
     "traceback": [
      "\u001b[0;31m---------------------------------------------------------------------------\u001b[0m",
      "\u001b[0;31mNameError\u001b[0m                                 Traceback (most recent call last)",
      "\u001b[0;32m<ipython-input-21-27c702ad181d>\u001b[0m in \u001b[0;36m<module>\u001b[0;34m\u001b[0m\n\u001b[1;32m     12\u001b[0m \u001b[0;32mdel\u001b[0m \u001b[0mf\u001b[0m \u001b[0;31m# delete the variable / Undefine\u001b[0m\u001b[0;34m\u001b[0m\u001b[0;34m\u001b[0m\u001b[0m\n\u001b[1;32m     13\u001b[0m \u001b[0;34m\u001b[0m\u001b[0m\n\u001b[0;32m---> 14\u001b[0;31m \u001b[0mprint\u001b[0m\u001b[0;34m(\u001b[0m\u001b[0mf\u001b[0m\u001b[0;34m)\u001b[0m\u001b[0;34m\u001b[0m\u001b[0;34m\u001b[0m\u001b[0m\n\u001b[0m",
      "\u001b[0;31mNameError\u001b[0m: name 'f' is not defined"
     ]
    }
   ],
   "source": [
    "f = 0 # Glabal variable\n",
    "\n",
    "def someFunction():\n",
    "    #f = \"Def\" # local variable\n",
    "    # global f #Define f is global variable\n",
    "    f = \"def\"\n",
    "    print(f)\n",
    "\n",
    "someFunction()\n",
    "print(f)\n",
    "\n",
    "del f # delete the variable / Undefine\n",
    "\n",
    "print(f)\n"
   ]
  },
  {
   "cell_type": "markdown",
   "metadata": {},
   "source": [
    "# 1.3 Functions\n",
    "\n",
    "**Working with functions**"
   ]
  },
  {
   "cell_type": "markdown",
   "metadata": {},
   "source": [
    "Define the basic function"
   ]
  },
  {
   "cell_type": "code",
   "execution_count": 29,
   "metadata": {},
   "outputs": [
    {
     "name": "stdout",
     "output_type": "stream",
     "text": [
      "I am the function\n",
      "I am the function\n",
      "None\n",
      "<function func1 at 0x7fceb021d9d8>\n"
     ]
    }
   ],
   "source": [
    "def func1():\n",
    "    print(\"I am the function\")\n",
    "\n",
    "func1()\n",
    "print(func1())\n",
    "print(func1)"
   ]
  },
  {
   "cell_type": "markdown",
   "metadata": {},
   "source": [
    "Function that takes the arguments"
   ]
  },
  {
   "cell_type": "code",
   "execution_count": 25,
   "metadata": {},
   "outputs": [
    {
     "name": "stdout",
     "output_type": "stream",
     "text": [
      "10   20\n",
      "10   20\n",
      "None\n"
     ]
    },
    {
     "data": {
      "text/plain": [
       "64"
      ]
     },
     "execution_count": 25,
     "metadata": {},
     "output_type": "execute_result"
    }
   ],
   "source": [
    "def func2(arg1, arg2):\n",
    "    print(arg1,\" \", arg2)\n",
    "    \n",
    "def cube(x):\n",
    "    return x*x*x\n",
    "\n",
    "func2(10,20)\n",
    "print(func2(10,20))\n",
    "cube(4)\n"
   ]
  },
  {
   "cell_type": "markdown",
   "metadata": {},
   "source": [
    "Function with default value in argument"
   ]
  },
  {
   "cell_type": "code",
   "execution_count": 28,
   "metadata": {},
   "outputs": [
    {
     "name": "stdout",
     "output_type": "stream",
     "text": [
      "20\n",
      "400\n"
     ]
    }
   ],
   "source": [
    "def power(num, x=1):\n",
    "    result= 1\n",
    "    for i in range(x):\n",
    "        result = result * num\n",
    "    return result\n",
    "\n",
    "print(power(20))\n",
    "print(power(20,2))\n",
    "    "
   ]
  },
  {
   "cell_type": "markdown",
   "metadata": {},
   "source": [
    "Passing argument values with arguments name"
   ]
  },
  {
   "cell_type": "code",
   "execution_count": 31,
   "metadata": {},
   "outputs": [
    {
     "name": "stdout",
     "output_type": "stream",
     "text": [
      "81\n"
     ]
    }
   ],
   "source": [
    "print(power(x=4, num=3))"
   ]
  },
  {
   "cell_type": "markdown",
   "metadata": {},
   "source": [
    "Function with vairable number of arguments"
   ]
  },
  {
   "cell_type": "code",
   "execution_count": 33,
   "metadata": {},
   "outputs": [
    {
     "name": "stdout",
     "output_type": "stream",
     "text": [
      "21\n"
     ]
    }
   ],
   "source": [
    "def multi_add(*args):\n",
    "    result = 0\n",
    "    for x in args:\n",
    "        result = result + x\n",
    "    return result\n",
    "print(multi_add(1,2,3,4,5,6))"
   ]
  },
  {
   "cell_type": "markdown",
   "metadata": {},
   "source": [
    "# 1.4 Conditiontional Logic"
   ]
  },
  {
   "cell_type": "code",
   "execution_count": 4,
   "metadata": {},
   "outputs": [
    {
     "name": "stdout",
     "output_type": "stream",
     "text": [
      "x is greater than y\n"
     ]
    }
   ],
   "source": [
    "def main():\n",
    "    x,y = 1000,100\n",
    "    \n",
    "    # Condition flow uses if, elif and else\n",
    "    \n",
    "    if (x < y):\n",
    "        print(\"x is less than y\")\n",
    "        \n",
    "    elif( x == y):\n",
    "        print(\"x is same as y\")\n",
    "        \n",
    "    else:\n",
    "        print(\"x is greater than y\")\n",
    "\n",
    "main()"
   ]
  },
  {
   "cell_type": "code",
   "execution_count": 7,
   "metadata": {},
   "outputs": [
    {
     "name": "stdout",
     "output_type": "stream",
     "text": [
      "x is less than y\n"
     ]
    }
   ],
   "source": [
    "# Conditional statements let you use \"a id C else b\"\n",
    "x,y = 10,100\n",
    "st = \"x is less than y\" if (x < y) else \"x is same or greater then y\"\n",
    "print(st)"
   ]
  },
  {
   "cell_type": "markdown",
   "metadata": {},
   "source": [
    "# 1.5 Loops"
   ]
  },
  {
   "cell_type": "code",
   "execution_count": 16,
   "metadata": {},
   "outputs": [
    {
     "name": "stdout",
     "output_type": "stream",
     "text": [
      "0\n",
      "1\n",
      "2\n",
      "3\n",
      "4\n",
      "5\n",
      "6\n",
      "7\n",
      "8\n",
      "9\n",
      "Sun\n",
      "Mon\n",
      "Tue\n",
      "Wed\n",
      "Thus\n",
      "5\n",
      "6\n",
      "use of continus in loops\n",
      "5\n",
      "7\n",
      "9\n",
      "0  with index  Sun\n",
      "1  with index  Mon\n",
      "2  with index  Tue\n",
      "3  with index  Wed\n",
      "4  with index  Thus\n"
     ]
    }
   ],
   "source": [
    "# Examples of Loops\n",
    "\n",
    "def main():\n",
    "    x = 0\n",
    "    \n",
    "    # define a while loop\n",
    "    \n",
    "    while(x<5):\n",
    "        print(x)\n",
    "        x = x+1\n",
    "    \n",
    "    #define a for loop\n",
    "    \n",
    "    for x in range(5,10):\n",
    "        print(x)\n",
    "    \n",
    "    # define a loop over a collection\n",
    "    \n",
    "    days = [\"Sun\",\"Mon\",\"Tue\", \"Wed\", \"Thus\"]\n",
    "    \n",
    "    for x in days:\n",
    "        print(x)\n",
    "        \n",
    "    # use the break and continus statements\n",
    "    \n",
    "    for x in range(5,10):\n",
    "        if(x == 7): break\n",
    "        print(x)\n",
    "        \n",
    "    # use of continus in loops\n",
    "    print(\"use of continus in loops\")\n",
    "    for x in range(5,10):\n",
    "        if(x %2 == 0): continue \n",
    "        print(x)\n",
    "        \n",
    "    # use the enumerate() function for getting index\n",
    "    days = [\"Sun\",\"Mon\",\"Tue\", \"Wed\", \"Thus\"]\n",
    "    for x,d in enumerate(days):\n",
    "        print(x, \" with index \", d)    \n",
    "    \n",
    "    \n",
    "main()    "
   ]
  },
  {
   "cell_type": "markdown",
   "metadata": {},
   "source": [
    "# 1.6 Classes"
   ]
  },
  {
   "cell_type": "code",
   "execution_count": 20,
   "metadata": {},
   "outputs": [
    {
     "name": "stdout",
     "output_type": "stream",
     "text": [
      "myClass method1\n",
      "myClass method2\n",
      "myClass method1\n",
      "anotherClass method1\n",
      "myClass method2\n",
      "anotherClass method2\n"
     ]
    }
   ],
   "source": [
    "# Example for working with classes\n",
    "\n",
    "class myClass():\n",
    "    def method1(self):\n",
    "        print(\"myClass method1\")\n",
    "    \n",
    "    def method2(self):\n",
    "        print(\"myClass method2\")\n",
    "    \n",
    "    \n",
    "# new Class beased on first class \n",
    "\n",
    "class anotherClass(myClass):\n",
    "    \n",
    "    def method1(self):\n",
    "        myClass.method1(self)\n",
    "        print(\"anotherClass method1\")\n",
    "        \n",
    "    def method2(self):\n",
    "        myClass.method2(self)\n",
    "        print(\"anotherClass method2\")\n",
    "\n",
    "def main():\n",
    "    c = myClass()\n",
    "    c.method1()\n",
    "    c.method2()\n",
    "    \n",
    "    c2 = anotherClass()\n",
    "    c2.method1()\n",
    "    c2.method2()\n",
    "\n",
    "if __name__ ==  \"__main__\":\n",
    "    main()        "
   ]
  }
 ],
 "metadata": {
  "kernelspec": {
   "display_name": "Python 3",
   "language": "python",
   "name": "python3"
  },
  "language_info": {
   "codemirror_mode": {
    "name": "ipython",
    "version": 3
   },
   "file_extension": ".py",
   "mimetype": "text/x-python",
   "name": "python",
   "nbconvert_exporter": "python",
   "pygments_lexer": "ipython3",
   "version": "3.7.3"
  }
 },
 "nbformat": 4,
 "nbformat_minor": 2
}
