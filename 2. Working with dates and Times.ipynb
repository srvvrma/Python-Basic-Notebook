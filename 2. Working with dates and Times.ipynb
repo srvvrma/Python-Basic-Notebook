{
 "cells": [
  {
   "cell_type": "markdown",
   "metadata": {},
   "source": [
    "# 2.Working with dates and Times"
   ]
  },
  {
   "cell_type": "markdown",
   "metadata": {},
   "source": [
    "**2.1The date,time and datetime classes**"
   ]
  },
  {
   "cell_type": "code",
   "execution_count": 8,
   "metadata": {},
   "outputs": [
    {
     "name": "stdout",
     "output_type": "stream",
     "text": [
      "2019-06-20\n",
      "Dates components 20 6 2019\n",
      "TOday's weekday # is 3\n",
      "which is weekday # is: thus\n"
     ]
    }
   ],
   "source": [
    "# Example of dates\n",
    "\n",
    "from datetime import date\n",
    "from datetime import time\n",
    "from datetime import datetime\n",
    "\n",
    "def main():\n",
    "    \n",
    "    ## DATE OBJECTS\n",
    "    \n",
    "    # Get todays date from simple today() method from date class\n",
    "    today = date.today()\n",
    "    print(today)\n",
    "    \n",
    "    # Printout the date's indivisual components\n",
    "    print(\"Dates components\", today.day, today.month, today.year )\n",
    "    \n",
    "    \n",
    "    # retrieve todays weekday number ( 0 = monday and 6 sunday)\n",
    "    print(\"TOday's weekday # is\", today.weekday())\n",
    "    days = [\"mon\",\"tue\",\"wed\",\"thus\",\"fir\",\"sat\",\"sun\"]\n",
    "    print(\"which is weekday # is:\",days[today.weekday()])\n",
    "    \n",
    "    # \n",
    "    \n",
    "if __name__ == \"__main__\":\n",
    "    main()\n",
    "    "
   ]
  },
  {
   "cell_type": "code",
   "execution_count": 12,
   "metadata": {},
   "outputs": [
    {
     "name": "stdout",
     "output_type": "stream",
     "text": [
      "2019-06-20 22:58:01.263910\n",
      "22:58:01.264020\n"
     ]
    }
   ],
   "source": [
    "# Example of datetime\n",
    "\n",
    "from datetime import date\n",
    "from datetime import time\n",
    "from datetime import datetime\n",
    "\n",
    "def main():\n",
    "    \n",
    "    ## DATETIME OBJECTS\n",
    "    # Get todays date with time\n",
    "    \n",
    "    today = datetime.now()\n",
    "    print(today)\n",
    "    \n",
    "    # Get current time\n",
    "    t = datetime.time(datetime.now())\n",
    "    print(t)\n",
    "    \n",
    "if __name__ == \"__main__\":\n",
    "    main()"
   ]
  },
  {
   "cell_type": "markdown",
   "metadata": {},
   "source": [
    "**2.2 Formatting the time output**"
   ]
  },
  {
   "cell_type": "code",
   "execution_count": 24,
   "metadata": {},
   "outputs": [
    {
     "name": "stdout",
     "output_type": "stream",
     "text": [
      "Date Formatting\n",
      "the current year is: 2019\n",
      "Thu, 20 June, 19\n",
      "Locale date and time is: Thu Jun 20 23:13:16 2019\n",
      "Locale date is: 06/20/19\n",
      "Locale time is: 23:13:16\n",
      "\n",
      "TIME FORMATTING\n",
      "Current time: 11:13:16 PM\n",
      "Current time (24 hrs): 23:13:16\n"
     ]
    }
   ],
   "source": [
    "# Imports\n",
    "from datetime import datetime\n",
    "\n",
    "def main():\n",
    "    # Times and Dates can be formatted using a set of predefined string\n",
    "    # control codes\n",
    "    now = datetime.now()\n",
    "    \n",
    "    \n",
    "    ## Date Formatting ##\n",
    "    \n",
    "    # %y/%Y - Year, %a/%A- weekday, %b/%B - month, %d - day of month\n",
    "    print(\"Date Formatting\")\n",
    "    print(now.strftime(\"the current year is: %Y\"))\n",
    "    print(now.strftime(\"%a, %d %B, %y\")) # print- Thu, 20 June, 19\n",
    "    \n",
    "    # %c- locale's date and time, %x- locale's date, %X - locals's time\n",
    "    print(now.strftime(\"Locale date and time is: %c\"))\n",
    "    print(now.strftime(\"Locale date is: %x\"))\n",
    "    print(now.strftime(\"Locale time is: %X\"))\n",
    "    \n",
    "    \n",
    "    ## TIME FORMATTING ##\n",
    "    print(\"\")\n",
    "    print(\"TIME FORMATTING\")\n",
    "    # %I/%H - 12/24 Hour, %M - minute, %S - second, %p - locale's AM/PM\n",
    "    print(now.strftime(\"Current time: %I:%M:%S %p\"))\n",
    "    print(now.strftime(\"Current time (24 hrs): %H:%M:%S\"))\n",
    "\n",
    "if __name__ == \"__main__\":\n",
    "    main()\n",
    "    "
   ]
  },
  {
   "cell_type": "markdown",
   "metadata": {},
   "source": [
    "**2.3 using timedelta objects**"
   ]
  },
  {
   "cell_type": "code",
   "execution_count": 39,
   "metadata": {},
   "outputs": [
    {
     "name": "stdout",
     "output_type": "stream",
     "text": [
      "365 days, 5:01:00\n",
      "Today is :  2019-06-21 00:09:16.955803\n",
      "one year from now it'll be : 2020-06-20 00:09:16.955803\n",
      "In 2 days and 3 weeks, it'll be : 2019-07-14 00:09:16.955803\n",
      "\n",
      "How many days until April Fools' day?\n",
      "April Fool day aleady went by 81 days ago\n",
      "It's just  285 days unitl April Fool's Day\n"
     ]
    }
   ],
   "source": [
    "## Working with timedelta\n",
    "\n",
    "#Imports\n",
    "\n",
    "from datetime import date\n",
    "from datetime import time\n",
    "from datetime import datetime\n",
    "from datetime import timedelta\n",
    "\n",
    "# Construct a basic timedelta and print it\n",
    "print(timedelta(days=365, hours=5, minutes=1))\n",
    "\n",
    "# Print today's date\n",
    "now = datetime.now()\n",
    "print(\"Today is : \",now)\n",
    "\n",
    "# print today's date one year from now\n",
    "print(\"one year from now it'll be : \" + str(now + timedelta(days=365)))\n",
    "\n",
    "# print a timedelta that used more than one argument\n",
    "print(\"In 2 days and 3 weeks, it'll be : \" + str(now + timedelta(days=2,weeks=3)))\n",
    "\n",
    "## How many days unitl April Fools' day?\n",
    "print()\n",
    "print(\"How many days until April Fools' day?\")\n",
    "today = date.today()\n",
    "afd = date(today.year,4,1)\n",
    "\n",
    "# Compair to see that if the april fool day has already gone for this year\n",
    "\n",
    "if afd < today:\n",
    "    print(\"April Fool day aleady went by %d days ago\" % (today -afd).days)\n",
    "    afd = afd.replace(year = today.year + 1) # next year april fool day\n",
    "\n",
    "time_to_afd =  afd - today\n",
    "print(\"It's just \", time_to_afd.days, \"days unitl April Fool's Day\")"
   ]
  },
  {
   "cell_type": "markdown",
   "metadata": {},
   "source": [
    "**2.4 Working with Calendar**"
   ]
  },
  {
   "cell_type": "code",
   "execution_count": 55,
   "metadata": {},
   "outputs": [
    {
     "name": "stdout",
     "output_type": "stream",
     "text": [
      "    January 2017\n",
      "Su Mo Tu We Th Fr Sa\n",
      " 1  2  3  4  5  6  7\n",
      " 8  9 10 11 12 13 14\n",
      "15 16 17 18 19 20 21\n",
      "22 23 24 25 26 27 28\n",
      "29 30 31\n",
      "\n",
      "<table border=\"0\" cellpadding=\"0\" cellspacing=\"0\" class=\"month\">\n",
      "<tr><th colspan=\"7\" class=\"month\">January 2017</th></tr>\n",
      "<tr><th class=\"sun\">Sun</th><th class=\"mon\">Mon</th><th class=\"tue\">Tue</th><th class=\"wed\">Wed</th><th class=\"thu\">Thu</th><th class=\"fri\">Fri</th><th class=\"sat\">Sat</th></tr>\n",
      "<tr><td class=\"sun\">1</td><td class=\"mon\">2</td><td class=\"tue\">3</td><td class=\"wed\">4</td><td class=\"thu\">5</td><td class=\"fri\">6</td><td class=\"sat\">7</td></tr>\n",
      "<tr><td class=\"sun\">8</td><td class=\"mon\">9</td><td class=\"tue\">10</td><td class=\"wed\">11</td><td class=\"thu\">12</td><td class=\"fri\">13</td><td class=\"sat\">14</td></tr>\n",
      "<tr><td class=\"sun\">15</td><td class=\"mon\">16</td><td class=\"tue\">17</td><td class=\"wed\">18</td><td class=\"thu\">19</td><td class=\"fri\">20</td><td class=\"sat\">21</td></tr>\n",
      "<tr><td class=\"sun\">22</td><td class=\"mon\">23</td><td class=\"tue\">24</td><td class=\"wed\">25</td><td class=\"thu\">26</td><td class=\"fri\">27</td><td class=\"sat\">28</td></tr>\n",
      "<tr><td class=\"sun\">29</td><td class=\"mon\">30</td><td class=\"tue\">31</td><td class=\"noday\">&nbsp;</td><td class=\"noday\">&nbsp;</td><td class=\"noday\">&nbsp;</td><td class=\"noday\">&nbsp;</td></tr>\n",
      "</table>\n",
      "\n",
      "0\n",
      "0\n",
      "1\n",
      "2\n",
      "3\n",
      "4\n",
      "5\n",
      "6\n",
      "7\n",
      "8\n",
      "9\n",
      "10\n",
      "11\n",
      "12\n",
      "13\n",
      "14\n",
      "15\n",
      "16\n",
      "17\n",
      "18\n",
      "19\n",
      "20\n",
      "21\n",
      "22\n",
      "23\n",
      "24\n",
      "25\n",
      "26\n",
      "27\n",
      "28\n",
      "29\n",
      "30\n",
      "31\n",
      "0\n",
      "0\n",
      "\n",
      "Month name: \n",
      "\n",
      "January\n",
      "February\n",
      "March\n",
      "April\n",
      "May\n",
      "June\n",
      "July\n",
      "August\n",
      "September\n",
      "October\n",
      "November\n",
      "December\n",
      "\n",
      "Days name: \n",
      "Monday\n",
      "Tuesday\n",
      "Wednesday\n",
      "Thursday\n",
      "Friday\n",
      "Saturday\n",
      "Sunday\n",
      "meeting days will be:\n",
      "   January  4\n",
      "  February  1\n",
      "     March  1\n",
      "     April  5\n",
      "       May  3\n",
      "      June  7\n",
      "      July  5\n",
      "    August  2\n",
      " September  6\n",
      "   October  4\n",
      "  November  1\n",
      "  December  6\n"
     ]
    }
   ],
   "source": [
    "# Working with calendar\n",
    "\n",
    "# Import calendar module\n",
    "import calendar \n",
    "\n",
    "# Create a plain text calender\n",
    "c = calendar.TextCalendar(calendar.SUNDAY)\n",
    "st = c.formatmonth(2017, 1, 0, 0)\n",
    "print(st)\n",
    "\n",
    "# Create an HTML formated calendar \n",
    "hc = calendar.HTMLCalendar(calendar.SUNDAY)\n",
    "st = hc.formatmonth(2017, 1)\n",
    "print(st)\n",
    "\n",
    "# loop over the days of a month\n",
    "# Zeroes mean that the day of the week is in an overlapping month\n",
    "\n",
    "for i in c.itermonthdays(2017,8):\n",
    "    print(i)\n",
    "    \n",
    "# The calendar module provides useful utilities for the given locale,\n",
    "# such as the names of the days and months in the both full and abbreviated forms\n",
    "print()\n",
    "print(\"Month name: \")\n",
    "for name in calendar.month_name:\n",
    "    print(name)\n",
    "    \n",
    "    \n",
    "print()\n",
    "print(\"Days name: \")    \n",
    "for name in calendar.day_name:\n",
    "    print(name)\n",
    "\n",
    "    \n",
    "# Print first friday of every month in 2019?\n",
    "print(\"meeting days will be:\")\n",
    "for m in range (1,13):\n",
    "    cal = calendar.monthcalendar(2019,m)\n",
    "    weekone = cal[0]\n",
    "    weektwo = cal[1]\n",
    "    \n",
    "    if weekone[calendar.FRIDAY] != 0:\n",
    "        meetday = weekone[calendar.FRIDAY]\n",
    "    else:\n",
    "        meetday = weektwo[calendar.FRIDAY]\n",
    "    \n",
    "    print(\"%10s %2d\" % (calendar.month_name[m], meetday))"
   ]
  }
 ],
 "metadata": {
  "kernelspec": {
   "display_name": "Python 3",
   "language": "python",
   "name": "python3"
  },
  "language_info": {
   "codemirror_mode": {
    "name": "ipython",
    "version": 3
   },
   "file_extension": ".py",
   "mimetype": "text/x-python",
   "name": "python",
   "nbconvert_exporter": "python",
   "pygments_lexer": "ipython3",
   "version": "3.7.3"
  }
 },
 "nbformat": 4,
 "nbformat_minor": 2
}
